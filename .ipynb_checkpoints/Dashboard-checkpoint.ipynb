{
 "cells": [
  {
   "cell_type": "markdown",
   "metadata": {},
   "source": [
    "# Covid-19 Dashboard"
   ]
  },
  {
   "cell_type": "code",
   "execution_count": 1,
   "metadata": {},
   "outputs": [],
   "source": [
    "import sys \n",
    "sys.path.append(\"/Users/kenny/opt/anaconda3/bin\")\n",
    "from IPython.display import clear_output\n",
    "import ipywidgets as wdg\n",
    "import pandas as pd\n",
    "import numpy as np\n",
    "import matplotlib.pyplot as plt\n",
    "import json\n",
    "from uk_covid19 import Cov19API\n",
    "import random\n",
    "import seaborn as sns\n",
    "sns.set_style(\"whitegrid\")"
   ]
  },
  {
   "cell_type": "code",
   "execution_count": 2,
   "metadata": {},
   "outputs": [],
   "source": [
    "def wrangle_data(rawdata):\n",
    "    \"\"\" Parameters: rawdata - data from json file or API call. Returns a dataframe.\n",
    "    Edit to include the code that wrangles the data, creates the dataframe and fills it in. \"\"\"\n",
    "    data = rawdata['data']\n",
    "    df = pd.json_normalize(data)\n",
    "    df.date = pd.to_datetime(df.date, format=\"%Y-%m-%d\")\n",
    "    df = df.set_index('date').sort_index()\n",
    "#     df = df.fillna(float(0))\n",
    "    for col in [x for x in df.columns if 'daily' in x]: \n",
    "        df[col+\"_rolling\"] = df[col].rolling(7).mean()\n",
    "    \n",
    "    return df\n",
    "\n",
    "def access_api(filter_, structure_):\n",
    "    api = Cov19API(filter_, structure_)\n",
    "    data = api.get_json()\n",
    "    \n",
    "    return data\n",
    "\n",
    "def api_button_callback(button):\n",
    "    \"\"\" Button callback - it must take the button as its parameter (unused in this case).\n",
    "    Accesses API, wrangles data, updates global variable df used for plotting. \"\"\"\n",
    "    apidata=access_api(filter_=filters, structure_=structure)\n",
    "    global df\n",
    "    df=wrangle_data(apidata)\n",
    "    refresh_graph()\n",
    "    apibutton.icon=\"check\"\n",
    "\n",
    "def timeseries_graph(gcols, gscale):\n",
    "    if gscale=='linear':\n",
    "        logscale=False\n",
    "    else:\n",
    "        logscale=True\n",
    "    ncols=len(gcols)\n",
    "    if ncols>0:\n",
    "        df[list(gcols)].plot(logy=logscale)\n",
    "        plt.ylabel('count')\n",
    "        plt.show()\n",
    "    else:\n",
    "        print(\"Click to select data for graph\")\n",
    "        print(\"(CTRL-Click to select more than one category)\")\n",
    "\n",
    "def refresh_graph():\n",
    "    \"\"\" We change the value of the widget in order to force a redraw of the graph;\n",
    "    this is useful when the data have been updated. This is a bit of a gimmick; it\n",
    "    needs to be customised for one of your widgets. \"\"\"\n",
    "    current= series.value\n",
    "    not_in_current = [x for x in series.options if x not in series.value]\n",
    "    if not_in_current:\n",
    "        other= (random.choice(not_in_current),)\n",
    "    else:\n",
    "        other=(random.choice(series.options),)\n",
    "    series.value=other \n",
    "    series.value=current\n",
    "        \n"
   ]
  },
  {
   "cell_type": "code",
   "execution_count": 3,
   "metadata": {},
   "outputs": [],
   "source": [
    "%matplotlib inline\n",
    "# make figures larger\n",
    "plt.rcParams['figure.dpi'] = 100"
   ]
  },
  {
   "cell_type": "code",
   "execution_count": 4,
   "metadata": {},
   "outputs": [],
   "source": [
    "with open('cases_deaths_vacs.json') as f:\n",
    "    jsondata = json.load(f)\n",
    "    df=wrangle_data(jsondata)"
   ]
  },
  {
   "cell_type": "code",
   "execution_count": 5,
   "metadata": {},
   "outputs": [
    {
     "data": {
      "text/plain": [
       "Index(['name', 'code', 'dailyCases', 'cumCases', 'dailyDeaths', 'cumDeaths',\n",
       "       'dailyVaccines', 'cumVaccines', 'dailyCases_rolling',\n",
       "       'dailyDeaths_rolling', 'dailyVaccines_rolling'],\n",
       "      dtype='object')"
      ]
     },
     "execution_count": 5,
     "metadata": {},
     "output_type": "execute_result"
    }
   ],
   "source": [
    "df.columns"
   ]
  },
  {
   "cell_type": "code",
   "execution_count": 6,
   "metadata": {},
   "outputs": [],
   "source": [
    "# Place your API access code in this function. Do not call this function directly; it will be called by \n",
    "# the button callback. \n",
    "AREA_TYPE = \"nation\"\n",
    "AREA_NAME = \"england\"\n",
    "\n",
    "filters = [\n",
    "    f\"areaType={ AREA_TYPE }\",\n",
    "    f\"areaName={ AREA_NAME }\"\n",
    "]\n",
    "\n",
    "structure = {\n",
    "    \"date\": \"date\",\n",
    "    \"name\": \"areaName\",\n",
    "    \"code\": \"areaCode\",\n",
    "    \"dailyCases\": \"newCasesByPublishDate\",\n",
    "    \"cumCases\": \"cumCasesByPublishDate\",\n",
    "    \"dailyDeaths\": \"newDeaths28DaysByPublishDate\",\n",
    "    \"cumDeaths\": \"cumDeaths28DaysByPublishDate\",\n",
    "    \"dailyVaccines\": \"newVaccinesGivenByPublishDate\",\n",
    "    \"cumVaccines\": \"cumVaccinesGivenByPublishDate\"\n",
    "}\n",
    "\n"
   ]
  },
  {
   "cell_type": "code",
   "execution_count": 7,
   "metadata": {},
   "outputs": [
    {
     "data": {
      "application/vnd.jupyter.widget-view+json": {
       "model_id": "fd8447dd705544479d887f7cfee65b4b",
       "version_major": 2,
       "version_minor": 0
      },
      "text/plain": [
       "Button(description='Refresh data', icon='download', style=ButtonStyle(), tooltip='Click to refresh data from g…"
      ]
     },
     "metadata": {},
     "output_type": "display_data"
    }
   ],
   "source": [
    "apibutton=wdg.Button(\n",
    "    description='Refresh data',\n",
    "    disabled=False,\n",
    "    button_style='',\n",
    "    tooltip=\"Click to refresh data from gov.uk\",\n",
    "    icon='download'\n",
    ")\n",
    "\n",
    "apibutton.on_click(api_button_callback)\n",
    "\n",
    "display(apibutton)"
   ]
  },
  {
   "cell_type": "markdown",
   "metadata": {},
   "source": [
    "## COVID cases, death and vaccine count (daily/cumulative)\n",
    "\n",
    "Timeseries graph to show cases, deaths and vaccine count.\n",
    "\n",
    "### Key stat sets:\n",
    "\n",
    "* Daily cases with rolling: dailyCases, dailyCases_rolling\n",
    "* Daily deaths with rolling: dailyDeaths, dailyDeaths_rolling\n",
    "* Cumulative deaths, cases and vaccines administered: cumCases, cumVaccines, cumDeaths\n",
    "* Rolling cases vs rolling vaccines: dailyCases_rolling, dailyVaccines_rolling"
   ]
  },
  {
   "cell_type": "code",
   "execution_count": 10,
   "metadata": {},
   "outputs": [
    {
     "data": {
      "application/vnd.jupyter.widget-view+json": {
       "model_id": "e16621a00c9841a884ab485d9239201c",
       "version_major": 2,
       "version_minor": 0
      },
      "text/plain": [
       "HBox(children=(Output(), VBox(children=(SelectMultiple(description='Stats:', index=(0, 1, 2, 3, 4, 5, 6, 7, 8)…"
      ]
     },
     "metadata": {},
     "output_type": "display_data"
    }
   ],
   "source": [
    "series=wdg.SelectMultiple(\n",
    "    options=['dailyCases', 'cumCases', 'dailyDeaths',\n",
    "       'cumDeaths', 'dailyVaccines', 'cumVaccines',\n",
    "        'dailyCases_rolling','dailyDeaths_rolling',\n",
    "        'dailyVaccines_rolling'],\n",
    "    value=['dailyCases', 'cumCases', 'dailyDeaths',\n",
    "       'cumDeaths', 'dailyVaccines', 'cumVaccines',\n",
    "          'dailyCases_rolling','dailyDeaths_rolling',\n",
    "        'dailyVaccines_rolling'],\n",
    "    rows=6,\n",
    "    description='Stats:',\n",
    "    disabled=False\n",
    ")\n",
    "\n",
    "scale=wdg.RadioButtons(\n",
    "    options=['linear', 'log'],\n",
    "    description='Scale:',\n",
    "    disabled=False\n",
    ")\n",
    "\n",
    "\n",
    "\n",
    "\n",
    "    \n",
    "graph=wdg.interactive_output(timeseries_graph, {'gcols': series, 'gscale': scale})\n",
    "ctrls=wdg.VBox([series, scale])\n",
    "form=wdg.HBox([graph, ctrls])\n",
    "display(form)"
   ]
  },
  {
   "cell_type": "code",
   "execution_count": null,
   "metadata": {},
   "outputs": [],
   "source": []
  }
 ],
 "metadata": {
  "kernelspec": {
   "display_name": "Python 3",
   "language": "python",
   "name": "python3"
  },
  "language_info": {
   "codemirror_mode": {
    "name": "ipython",
    "version": 3
   },
   "file_extension": ".py",
   "mimetype": "text/x-python",
   "name": "python",
   "nbconvert_exporter": "python",
   "pygments_lexer": "ipython3",
   "version": "3.8.3"
  }
 },
 "nbformat": 4,
 "nbformat_minor": 4
}
